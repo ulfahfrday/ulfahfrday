{
 "cells": [
  {
   "cell_type": "markdown",
   "id": "5f67afa8-d6a2-4e0d-9b57-592d804426a7",
   "metadata": {},
   "source": [
    "SCMS"
   ]
  },
  {
   "cell_type": "code",
   "execution_count": null,
   "id": "85ac0cc4-82e4-435d-95fb-7652d7a8b22f",
   "metadata": {},
   "outputs": [],
   "source": []
  },
  {
   "cell_type": "markdown",
   "id": "84b28290-b341-4825-b99b-35c6437244b1",
   "metadata": {},
   "source": [
    "Background"
   ]
  },
  {
   "cell_type": "code",
   "execution_count": null,
   "id": "1586f639-db99-4ab6-b148-59caa803b18f",
   "metadata": {},
   "outputs": [],
   "source": []
  },
  {
   "cell_type": "raw",
   "id": "55db1565-d01b-4e79-9675-df8c0481a7b5",
   "metadata": {},
   "source": [
    "Problem Statement\n",
    "- Top 5 Countries \n",
    "- Bottom 5 Countries\n",
    "- Top 5 Brands\n",
    "- Bottom 5 Brands\n",
    "- Country X Year"
   ]
  },
  {
   "cell_type": "code",
   "execution_count": 429,
   "id": "2a51d439-f725-48a2-8a88-44269fca69c9",
   "metadata": {},
   "outputs": [],
   "source": [
    "import pandas as pd\n",
    "import numpy as np\n",
    "import seaborn as sns\n",
    "import matplotlib.pyplot as plt"
   ]
  },
  {
   "cell_type": "code",
   "execution_count": 430,
   "id": "43bca4f2-d1e0-44d5-ae90-d338ba96cdc2",
   "metadata": {},
   "outputs": [],
   "source": [
    "dataset = pd.read_csv('SCMS_Delivery_History_Dataset.csv')"
   ]
  },
  {
   "cell_type": "code",
   "execution_count": 431,
   "id": "7b3ebb5a-dc7d-4da3-a83c-cd4c5024b483",
   "metadata": {},
   "outputs": [],
   "source": [
    "totalrow = len(dataset)"
   ]
  },
  {
   "cell_type": "code",
   "execution_count": 432,
   "id": "a867a9ee-801c-4144-b11f-20f381c318d5",
   "metadata": {},
   "outputs": [
    {
     "data": {
      "text/plain": [
       "10324"
      ]
     },
     "execution_count": 432,
     "metadata": {},
     "output_type": "execute_result"
    }
   ],
   "source": [
    "totalrow"
   ]
  },
  {
   "cell_type": "code",
   "execution_count": 433,
   "id": "c3ccf9f0-bcb2-405a-a81e-cc7726f4666e",
   "metadata": {},
   "outputs": [
    {
     "name": "stdout",
     "output_type": "stream",
     "text": [
      "<class 'pandas.core.frame.DataFrame'>\n",
      "RangeIndex: 10324 entries, 0 to 10323\n",
      "Data columns (total 33 columns):\n",
      " #   Column                        Non-Null Count  Dtype  \n",
      "---  ------                        --------------  -----  \n",
      " 0   ID                            10324 non-null  int64  \n",
      " 1   Project Code                  10324 non-null  object \n",
      " 2   PQ #                          10324 non-null  object \n",
      " 3   PO / SO #                     10324 non-null  object \n",
      " 4   ASN/DN #                      10324 non-null  object \n",
      " 5   Country                       10324 non-null  object \n",
      " 6   Managed By                    10324 non-null  object \n",
      " 7   Fulfill Via                   10324 non-null  object \n",
      " 8   Vendor INCO Term              10324 non-null  object \n",
      " 9   Shipment Mode                 9964 non-null   object \n",
      " 10  PQ First Sent to Client Date  10324 non-null  object \n",
      " 11  PO Sent to Vendor Date        10324 non-null  object \n",
      " 12  Scheduled Delivery Date       10324 non-null  object \n",
      " 13  Delivered to Client Date      10324 non-null  object \n",
      " 14  Delivery Recorded Date        10324 non-null  object \n",
      " 15  Product Group                 10324 non-null  object \n",
      " 16  Sub Classification            10324 non-null  object \n",
      " 17  Vendor                        10324 non-null  object \n",
      " 18  Item Description              10324 non-null  object \n",
      " 19  Molecule/Test Type            10324 non-null  object \n",
      " 20  Brand                         10324 non-null  object \n",
      " 21  Dosage                        8588 non-null   object \n",
      " 22  Dosage Form                   10324 non-null  object \n",
      " 23  Unit of Measure (Per Pack)    10324 non-null  int64  \n",
      " 24  Line Item Quantity            10324 non-null  int64  \n",
      " 25  Line Item Value               10324 non-null  float64\n",
      " 26  Pack Price                    10324 non-null  float64\n",
      " 27  Unit Price                    10324 non-null  float64\n",
      " 28  Manufacturing Site            10324 non-null  object \n",
      " 29  First Line Designation        10324 non-null  object \n",
      " 30  Weight (Kilograms)            10324 non-null  object \n",
      " 31  Freight Cost (USD)            10324 non-null  object \n",
      " 32  Line Item Insurance (USD)     10037 non-null  float64\n",
      "dtypes: float64(4), int64(3), object(26)\n",
      "memory usage: 2.6+ MB\n"
     ]
    }
   ],
   "source": [
    "dataset.info()"
   ]
  },
  {
   "cell_type": "code",
   "execution_count": 434,
   "id": "0e6955c3-8aa0-4948-93cc-46ec0b5e21d7",
   "metadata": {},
   "outputs": [
    {
     "data": {
      "text/html": [
       "<div>\n",
       "<style scoped>\n",
       "    .dataframe tbody tr th:only-of-type {\n",
       "        vertical-align: middle;\n",
       "    }\n",
       "\n",
       "    .dataframe tbody tr th {\n",
       "        vertical-align: top;\n",
       "    }\n",
       "\n",
       "    .dataframe thead th {\n",
       "        text-align: right;\n",
       "    }\n",
       "</style>\n",
       "<table border=\"1\" class=\"dataframe\">\n",
       "  <thead>\n",
       "    <tr style=\"text-align: right;\">\n",
       "      <th></th>\n",
       "      <th>0</th>\n",
       "      <th>1</th>\n",
       "      <th>2</th>\n",
       "    </tr>\n",
       "  </thead>\n",
       "  <tbody>\n",
       "    <tr>\n",
       "      <th>ID</th>\n",
       "      <td>1</td>\n",
       "      <td>3</td>\n",
       "      <td>4</td>\n",
       "    </tr>\n",
       "    <tr>\n",
       "      <th>Project Code</th>\n",
       "      <td>100-CI-T01</td>\n",
       "      <td>108-VN-T01</td>\n",
       "      <td>100-CI-T01</td>\n",
       "    </tr>\n",
       "    <tr>\n",
       "      <th>PQ #</th>\n",
       "      <td>Pre-PQ Process</td>\n",
       "      <td>Pre-PQ Process</td>\n",
       "      <td>Pre-PQ Process</td>\n",
       "    </tr>\n",
       "    <tr>\n",
       "      <th>PO / SO #</th>\n",
       "      <td>SCMS-4</td>\n",
       "      <td>SCMS-13</td>\n",
       "      <td>SCMS-20</td>\n",
       "    </tr>\n",
       "    <tr>\n",
       "      <th>ASN/DN #</th>\n",
       "      <td>ASN-8</td>\n",
       "      <td>ASN-85</td>\n",
       "      <td>ASN-14</td>\n",
       "    </tr>\n",
       "    <tr>\n",
       "      <th>Country</th>\n",
       "      <td>Côte d'Ivoire</td>\n",
       "      <td>Vietnam</td>\n",
       "      <td>Côte d'Ivoire</td>\n",
       "    </tr>\n",
       "    <tr>\n",
       "      <th>Managed By</th>\n",
       "      <td>PMO - US</td>\n",
       "      <td>PMO - US</td>\n",
       "      <td>PMO - US</td>\n",
       "    </tr>\n",
       "    <tr>\n",
       "      <th>Fulfill Via</th>\n",
       "      <td>Direct Drop</td>\n",
       "      <td>Direct Drop</td>\n",
       "      <td>Direct Drop</td>\n",
       "    </tr>\n",
       "    <tr>\n",
       "      <th>Vendor INCO Term</th>\n",
       "      <td>EXW</td>\n",
       "      <td>EXW</td>\n",
       "      <td>FCA</td>\n",
       "    </tr>\n",
       "    <tr>\n",
       "      <th>Shipment Mode</th>\n",
       "      <td>Air</td>\n",
       "      <td>Air</td>\n",
       "      <td>Air</td>\n",
       "    </tr>\n",
       "    <tr>\n",
       "      <th>PQ First Sent to Client Date</th>\n",
       "      <td>Pre-PQ Process</td>\n",
       "      <td>Pre-PQ Process</td>\n",
       "      <td>Pre-PQ Process</td>\n",
       "    </tr>\n",
       "    <tr>\n",
       "      <th>PO Sent to Vendor Date</th>\n",
       "      <td>Date Not Captured</td>\n",
       "      <td>Date Not Captured</td>\n",
       "      <td>Date Not Captured</td>\n",
       "    </tr>\n",
       "    <tr>\n",
       "      <th>Scheduled Delivery Date</th>\n",
       "      <td>2-Jun-06</td>\n",
       "      <td>14-Nov-06</td>\n",
       "      <td>27-Aug-06</td>\n",
       "    </tr>\n",
       "    <tr>\n",
       "      <th>Delivered to Client Date</th>\n",
       "      <td>2-Jun-06</td>\n",
       "      <td>14-Nov-06</td>\n",
       "      <td>27-Aug-06</td>\n",
       "    </tr>\n",
       "    <tr>\n",
       "      <th>Delivery Recorded Date</th>\n",
       "      <td>2-Jun-06</td>\n",
       "      <td>14-Nov-06</td>\n",
       "      <td>27-Aug-06</td>\n",
       "    </tr>\n",
       "    <tr>\n",
       "      <th>Product Group</th>\n",
       "      <td>HRDT</td>\n",
       "      <td>ARV</td>\n",
       "      <td>HRDT</td>\n",
       "    </tr>\n",
       "    <tr>\n",
       "      <th>Sub Classification</th>\n",
       "      <td>HIV test</td>\n",
       "      <td>Pediatric</td>\n",
       "      <td>HIV test</td>\n",
       "    </tr>\n",
       "    <tr>\n",
       "      <th>Vendor</th>\n",
       "      <td>RANBAXY Fine Chemicals LTD.</td>\n",
       "      <td>Aurobindo Pharma Limited</td>\n",
       "      <td>Abbott GmbH &amp; Co. KG</td>\n",
       "    </tr>\n",
       "    <tr>\n",
       "      <th>Item Description</th>\n",
       "      <td>HIV, Reveal G3 Rapid HIV-1 Antibody Test, 30 T...</td>\n",
       "      <td>Nevirapine 10mg/ml, oral suspension, Bottle, 2...</td>\n",
       "      <td>HIV 1/2, Determine Complete HIV Kit, 100 Tests</td>\n",
       "    </tr>\n",
       "    <tr>\n",
       "      <th>Molecule/Test Type</th>\n",
       "      <td>HIV, Reveal G3 Rapid HIV-1 Antibody Test</td>\n",
       "      <td>Nevirapine</td>\n",
       "      <td>HIV 1/2, Determine Complete HIV Kit</td>\n",
       "    </tr>\n",
       "    <tr>\n",
       "      <th>Brand</th>\n",
       "      <td>Reveal</td>\n",
       "      <td>Generic</td>\n",
       "      <td>Determine</td>\n",
       "    </tr>\n",
       "    <tr>\n",
       "      <th>Dosage</th>\n",
       "      <td>NaN</td>\n",
       "      <td>10mg/ml</td>\n",
       "      <td>NaN</td>\n",
       "    </tr>\n",
       "    <tr>\n",
       "      <th>Dosage Form</th>\n",
       "      <td>Test kit</td>\n",
       "      <td>Oral suspension</td>\n",
       "      <td>Test kit</td>\n",
       "    </tr>\n",
       "    <tr>\n",
       "      <th>Unit of Measure (Per Pack)</th>\n",
       "      <td>30</td>\n",
       "      <td>240</td>\n",
       "      <td>100</td>\n",
       "    </tr>\n",
       "    <tr>\n",
       "      <th>Line Item Quantity</th>\n",
       "      <td>19</td>\n",
       "      <td>1000</td>\n",
       "      <td>500</td>\n",
       "    </tr>\n",
       "    <tr>\n",
       "      <th>Line Item Value</th>\n",
       "      <td>551.0</td>\n",
       "      <td>6200.0</td>\n",
       "      <td>40000.0</td>\n",
       "    </tr>\n",
       "    <tr>\n",
       "      <th>Pack Price</th>\n",
       "      <td>29.0</td>\n",
       "      <td>6.2</td>\n",
       "      <td>80.0</td>\n",
       "    </tr>\n",
       "    <tr>\n",
       "      <th>Unit Price</th>\n",
       "      <td>0.97</td>\n",
       "      <td>0.03</td>\n",
       "      <td>0.8</td>\n",
       "    </tr>\n",
       "    <tr>\n",
       "      <th>Manufacturing Site</th>\n",
       "      <td>Ranbaxy Fine Chemicals LTD</td>\n",
       "      <td>Aurobindo Unit III, India</td>\n",
       "      <td>ABBVIE GmbH &amp; Co.KG Wiesbaden</td>\n",
       "    </tr>\n",
       "    <tr>\n",
       "      <th>First Line Designation</th>\n",
       "      <td>Yes</td>\n",
       "      <td>Yes</td>\n",
       "      <td>Yes</td>\n",
       "    </tr>\n",
       "    <tr>\n",
       "      <th>Weight (Kilograms)</th>\n",
       "      <td>13</td>\n",
       "      <td>358</td>\n",
       "      <td>171</td>\n",
       "    </tr>\n",
       "    <tr>\n",
       "      <th>Freight Cost (USD)</th>\n",
       "      <td>780.34</td>\n",
       "      <td>4521.5</td>\n",
       "      <td>1653.78</td>\n",
       "    </tr>\n",
       "    <tr>\n",
       "      <th>Line Item Insurance (USD)</th>\n",
       "      <td>NaN</td>\n",
       "      <td>NaN</td>\n",
       "      <td>NaN</td>\n",
       "    </tr>\n",
       "  </tbody>\n",
       "</table>\n",
       "</div>"
      ],
      "text/plain": [
       "                                                                              0  \\\n",
       "ID                                                                            1   \n",
       "Project Code                                                         100-CI-T01   \n",
       "PQ #                                                             Pre-PQ Process   \n",
       "PO / SO #                                                                SCMS-4   \n",
       "ASN/DN #                                                                  ASN-8   \n",
       "Country                                                           Côte d'Ivoire   \n",
       "Managed By                                                             PMO - US   \n",
       "Fulfill Via                                                         Direct Drop   \n",
       "Vendor INCO Term                                                            EXW   \n",
       "Shipment Mode                                                               Air   \n",
       "PQ First Sent to Client Date                                     Pre-PQ Process   \n",
       "PO Sent to Vendor Date                                        Date Not Captured   \n",
       "Scheduled Delivery Date                                                2-Jun-06   \n",
       "Delivered to Client Date                                               2-Jun-06   \n",
       "Delivery Recorded Date                                                 2-Jun-06   \n",
       "Product Group                                                              HRDT   \n",
       "Sub Classification                                                     HIV test   \n",
       "Vendor                                              RANBAXY Fine Chemicals LTD.   \n",
       "Item Description              HIV, Reveal G3 Rapid HIV-1 Antibody Test, 30 T...   \n",
       "Molecule/Test Type                     HIV, Reveal G3 Rapid HIV-1 Antibody Test   \n",
       "Brand                                                                    Reveal   \n",
       "Dosage                                                                      NaN   \n",
       "Dosage Form                                                            Test kit   \n",
       "Unit of Measure (Per Pack)                                                   30   \n",
       "Line Item Quantity                                                           19   \n",
       "Line Item Value                                                           551.0   \n",
       "Pack Price                                                                 29.0   \n",
       "Unit Price                                                                 0.97   \n",
       "Manufacturing Site                                   Ranbaxy Fine Chemicals LTD   \n",
       "First Line Designation                                                      Yes   \n",
       "Weight (Kilograms)                                                           13   \n",
       "Freight Cost (USD)                                                       780.34   \n",
       "Line Item Insurance (USD)                                                   NaN   \n",
       "\n",
       "                                                                              1  \\\n",
       "ID                                                                            3   \n",
       "Project Code                                                         108-VN-T01   \n",
       "PQ #                                                             Pre-PQ Process   \n",
       "PO / SO #                                                               SCMS-13   \n",
       "ASN/DN #                                                                 ASN-85   \n",
       "Country                                                                 Vietnam   \n",
       "Managed By                                                             PMO - US   \n",
       "Fulfill Via                                                         Direct Drop   \n",
       "Vendor INCO Term                                                            EXW   \n",
       "Shipment Mode                                                               Air   \n",
       "PQ First Sent to Client Date                                     Pre-PQ Process   \n",
       "PO Sent to Vendor Date                                        Date Not Captured   \n",
       "Scheduled Delivery Date                                               14-Nov-06   \n",
       "Delivered to Client Date                                              14-Nov-06   \n",
       "Delivery Recorded Date                                                14-Nov-06   \n",
       "Product Group                                                               ARV   \n",
       "Sub Classification                                                    Pediatric   \n",
       "Vendor                                                 Aurobindo Pharma Limited   \n",
       "Item Description              Nevirapine 10mg/ml, oral suspension, Bottle, 2...   \n",
       "Molecule/Test Type                                                   Nevirapine   \n",
       "Brand                                                                   Generic   \n",
       "Dosage                                                                  10mg/ml   \n",
       "Dosage Form                                                     Oral suspension   \n",
       "Unit of Measure (Per Pack)                                                  240   \n",
       "Line Item Quantity                                                         1000   \n",
       "Line Item Value                                                          6200.0   \n",
       "Pack Price                                                                  6.2   \n",
       "Unit Price                                                                 0.03   \n",
       "Manufacturing Site                                    Aurobindo Unit III, India   \n",
       "First Line Designation                                                      Yes   \n",
       "Weight (Kilograms)                                                          358   \n",
       "Freight Cost (USD)                                                       4521.5   \n",
       "Line Item Insurance (USD)                                                   NaN   \n",
       "\n",
       "                                                                           2  \n",
       "ID                                                                         4  \n",
       "Project Code                                                      100-CI-T01  \n",
       "PQ #                                                          Pre-PQ Process  \n",
       "PO / SO #                                                            SCMS-20  \n",
       "ASN/DN #                                                              ASN-14  \n",
       "Country                                                        Côte d'Ivoire  \n",
       "Managed By                                                          PMO - US  \n",
       "Fulfill Via                                                      Direct Drop  \n",
       "Vendor INCO Term                                                         FCA  \n",
       "Shipment Mode                                                            Air  \n",
       "PQ First Sent to Client Date                                  Pre-PQ Process  \n",
       "PO Sent to Vendor Date                                     Date Not Captured  \n",
       "Scheduled Delivery Date                                            27-Aug-06  \n",
       "Delivered to Client Date                                           27-Aug-06  \n",
       "Delivery Recorded Date                                             27-Aug-06  \n",
       "Product Group                                                           HRDT  \n",
       "Sub Classification                                                  HIV test  \n",
       "Vendor                                                  Abbott GmbH & Co. KG  \n",
       "Item Description              HIV 1/2, Determine Complete HIV Kit, 100 Tests  \n",
       "Molecule/Test Type                       HIV 1/2, Determine Complete HIV Kit  \n",
       "Brand                                                              Determine  \n",
       "Dosage                                                                   NaN  \n",
       "Dosage Form                                                         Test kit  \n",
       "Unit of Measure (Per Pack)                                               100  \n",
       "Line Item Quantity                                                       500  \n",
       "Line Item Value                                                      40000.0  \n",
       "Pack Price                                                              80.0  \n",
       "Unit Price                                                               0.8  \n",
       "Manufacturing Site                             ABBVIE GmbH & Co.KG Wiesbaden  \n",
       "First Line Designation                                                   Yes  \n",
       "Weight (Kilograms)                                                       171  \n",
       "Freight Cost (USD)                                                   1653.78  \n",
       "Line Item Insurance (USD)                                                NaN  "
      ]
     },
     "execution_count": 434,
     "metadata": {},
     "output_type": "execute_result"
    }
   ],
   "source": [
    "dataset.head(3).T"
   ]
  },
  {
   "cell_type": "code",
   "execution_count": 435,
   "id": "512e2956-9906-4fd6-b661-071da685b644",
   "metadata": {},
   "outputs": [
    {
     "data": {
      "text/html": [
       "<div>\n",
       "<style scoped>\n",
       "    .dataframe tbody tr th:only-of-type {\n",
       "        vertical-align: middle;\n",
       "    }\n",
       "\n",
       "    .dataframe tbody tr th {\n",
       "        vertical-align: top;\n",
       "    }\n",
       "\n",
       "    .dataframe thead th {\n",
       "        text-align: right;\n",
       "    }\n",
       "</style>\n",
       "<table border=\"1\" class=\"dataframe\">\n",
       "  <thead>\n",
       "    <tr style=\"text-align: right;\">\n",
       "      <th></th>\n",
       "      <th>10321</th>\n",
       "      <th>10322</th>\n",
       "      <th>10323</th>\n",
       "    </tr>\n",
       "  </thead>\n",
       "  <tbody>\n",
       "    <tr>\n",
       "      <th>ID</th>\n",
       "      <td>86821</td>\n",
       "      <td>86822</td>\n",
       "      <td>86823</td>\n",
       "    </tr>\n",
       "    <tr>\n",
       "      <th>Project Code</th>\n",
       "      <td>110-ZM-T30</td>\n",
       "      <td>200-ZW-T30</td>\n",
       "      <td>103-ZW-T30</td>\n",
       "    </tr>\n",
       "    <tr>\n",
       "      <th>PQ #</th>\n",
       "      <td>FPQ-14784</td>\n",
       "      <td>FPQ-16523</td>\n",
       "      <td>FPQ-15197</td>\n",
       "    </tr>\n",
       "    <tr>\n",
       "      <th>PO / SO #</th>\n",
       "      <td>SO-49600</td>\n",
       "      <td>SO-51680</td>\n",
       "      <td>SO-50022</td>\n",
       "    </tr>\n",
       "    <tr>\n",
       "      <th>ASN/DN #</th>\n",
       "      <td>DN-4316</td>\n",
       "      <td>DN-4334</td>\n",
       "      <td>DN-4336</td>\n",
       "    </tr>\n",
       "    <tr>\n",
       "      <th>Country</th>\n",
       "      <td>Zambia</td>\n",
       "      <td>Zimbabwe</td>\n",
       "      <td>Zimbabwe</td>\n",
       "    </tr>\n",
       "    <tr>\n",
       "      <th>Managed By</th>\n",
       "      <td>PMO - US</td>\n",
       "      <td>PMO - US</td>\n",
       "      <td>PMO - US</td>\n",
       "    </tr>\n",
       "    <tr>\n",
       "      <th>Fulfill Via</th>\n",
       "      <td>From RDC</td>\n",
       "      <td>From RDC</td>\n",
       "      <td>From RDC</td>\n",
       "    </tr>\n",
       "    <tr>\n",
       "      <th>Vendor INCO Term</th>\n",
       "      <td>N/A - From RDC</td>\n",
       "      <td>N/A - From RDC</td>\n",
       "      <td>N/A - From RDC</td>\n",
       "    </tr>\n",
       "    <tr>\n",
       "      <th>Shipment Mode</th>\n",
       "      <td>Truck</td>\n",
       "      <td>Truck</td>\n",
       "      <td>Truck</td>\n",
       "    </tr>\n",
       "    <tr>\n",
       "      <th>PQ First Sent to Client Date</th>\n",
       "      <td>8/12/14</td>\n",
       "      <td>7/1/15</td>\n",
       "      <td>10/16/14</td>\n",
       "    </tr>\n",
       "    <tr>\n",
       "      <th>PO Sent to Vendor Date</th>\n",
       "      <td>N/A - From RDC</td>\n",
       "      <td>N/A - From RDC</td>\n",
       "      <td>N/A - From RDC</td>\n",
       "    </tr>\n",
       "    <tr>\n",
       "      <th>Scheduled Delivery Date</th>\n",
       "      <td>31-Aug-15</td>\n",
       "      <td>9-Sep-15</td>\n",
       "      <td>31-Aug-15</td>\n",
       "    </tr>\n",
       "    <tr>\n",
       "      <th>Delivered to Client Date</th>\n",
       "      <td>25-Aug-15</td>\n",
       "      <td>4-Aug-15</td>\n",
       "      <td>4-Aug-15</td>\n",
       "    </tr>\n",
       "    <tr>\n",
       "      <th>Delivery Recorded Date</th>\n",
       "      <td>3-Sep-15</td>\n",
       "      <td>11-Aug-15</td>\n",
       "      <td>11-Aug-15</td>\n",
       "    </tr>\n",
       "    <tr>\n",
       "      <th>Product Group</th>\n",
       "      <td>ARV</td>\n",
       "      <td>ARV</td>\n",
       "      <td>ARV</td>\n",
       "    </tr>\n",
       "    <tr>\n",
       "      <th>Sub Classification</th>\n",
       "      <td>Adult</td>\n",
       "      <td>Adult</td>\n",
       "      <td>Pediatric</td>\n",
       "    </tr>\n",
       "    <tr>\n",
       "      <th>Vendor</th>\n",
       "      <td>SCMS from RDC</td>\n",
       "      <td>SCMS from RDC</td>\n",
       "      <td>SCMS from RDC</td>\n",
       "    </tr>\n",
       "    <tr>\n",
       "      <th>Item Description</th>\n",
       "      <td>Efavirenz/Lamivudine/Tenofovir Disoproxil Fuma...</td>\n",
       "      <td>Lamivudine/Zidovudine 150/300mg, tablets, 60 Tabs</td>\n",
       "      <td>Lamivudine/Zidovudine 30/60mg, dispersible tab...</td>\n",
       "    </tr>\n",
       "    <tr>\n",
       "      <th>Molecule/Test Type</th>\n",
       "      <td>Efavirenz/Lamivudine/Tenofovir Disoproxil Fuma...</td>\n",
       "      <td>Lamivudine/Zidovudine</td>\n",
       "      <td>Lamivudine/Zidovudine</td>\n",
       "    </tr>\n",
       "    <tr>\n",
       "      <th>Brand</th>\n",
       "      <td>Generic</td>\n",
       "      <td>Generic</td>\n",
       "      <td>Generic</td>\n",
       "    </tr>\n",
       "    <tr>\n",
       "      <th>Dosage</th>\n",
       "      <td>600/300/300mg</td>\n",
       "      <td>150/300mg</td>\n",
       "      <td>30/60mg</td>\n",
       "    </tr>\n",
       "    <tr>\n",
       "      <th>Dosage Form</th>\n",
       "      <td>Tablet - FDC</td>\n",
       "      <td>Tablet - FDC</td>\n",
       "      <td>Chewable/dispersible tablet - FDC</td>\n",
       "    </tr>\n",
       "    <tr>\n",
       "      <th>Unit of Measure (Per Pack)</th>\n",
       "      <td>30</td>\n",
       "      <td>60</td>\n",
       "      <td>60</td>\n",
       "    </tr>\n",
       "    <tr>\n",
       "      <th>Line Item Quantity</th>\n",
       "      <td>514526</td>\n",
       "      <td>17465</td>\n",
       "      <td>36639</td>\n",
       "    </tr>\n",
       "    <tr>\n",
       "      <th>Line Item Value</th>\n",
       "      <td>5140114.74</td>\n",
       "      <td>113871.8</td>\n",
       "      <td>72911.61</td>\n",
       "    </tr>\n",
       "    <tr>\n",
       "      <th>Pack Price</th>\n",
       "      <td>9.99</td>\n",
       "      <td>6.52</td>\n",
       "      <td>1.99</td>\n",
       "    </tr>\n",
       "    <tr>\n",
       "      <th>Unit Price</th>\n",
       "      <td>0.33</td>\n",
       "      <td>0.11</td>\n",
       "      <td>0.03</td>\n",
       "    </tr>\n",
       "    <tr>\n",
       "      <th>Manufacturing Site</th>\n",
       "      <td>Cipla Ltd A-42 MIDC Mahar. IN</td>\n",
       "      <td>Mylan (formerly Matrix) Nashik</td>\n",
       "      <td>Cipla, Goa, India</td>\n",
       "    </tr>\n",
       "    <tr>\n",
       "      <th>First Line Designation</th>\n",
       "      <td>No</td>\n",
       "      <td>Yes</td>\n",
       "      <td>No</td>\n",
       "    </tr>\n",
       "    <tr>\n",
       "      <th>Weight (Kilograms)</th>\n",
       "      <td>Weight Captured Separately</td>\n",
       "      <td>1392</td>\n",
       "      <td>Weight Captured Separately</td>\n",
       "    </tr>\n",
       "    <tr>\n",
       "      <th>Freight Cost (USD)</th>\n",
       "      <td>Freight Included in Commodity Cost</td>\n",
       "      <td>Freight Included in Commodity Cost</td>\n",
       "      <td>Freight Included in Commodity Cost</td>\n",
       "    </tr>\n",
       "    <tr>\n",
       "      <th>Line Item Insurance (USD)</th>\n",
       "      <td>5284.04</td>\n",
       "      <td>134.03</td>\n",
       "      <td>85.82</td>\n",
       "    </tr>\n",
       "  </tbody>\n",
       "</table>\n",
       "</div>"
      ],
      "text/plain": [
       "                                                                          10321  \\\n",
       "ID                                                                        86821   \n",
       "Project Code                                                         110-ZM-T30   \n",
       "PQ #                                                                  FPQ-14784   \n",
       "PO / SO #                                                              SO-49600   \n",
       "ASN/DN #                                                                DN-4316   \n",
       "Country                                                                  Zambia   \n",
       "Managed By                                                             PMO - US   \n",
       "Fulfill Via                                                            From RDC   \n",
       "Vendor INCO Term                                                 N/A - From RDC   \n",
       "Shipment Mode                                                             Truck   \n",
       "PQ First Sent to Client Date                                            8/12/14   \n",
       "PO Sent to Vendor Date                                           N/A - From RDC   \n",
       "Scheduled Delivery Date                                               31-Aug-15   \n",
       "Delivered to Client Date                                              25-Aug-15   \n",
       "Delivery Recorded Date                                                 3-Sep-15   \n",
       "Product Group                                                               ARV   \n",
       "Sub Classification                                                        Adult   \n",
       "Vendor                                                            SCMS from RDC   \n",
       "Item Description              Efavirenz/Lamivudine/Tenofovir Disoproxil Fuma...   \n",
       "Molecule/Test Type            Efavirenz/Lamivudine/Tenofovir Disoproxil Fuma...   \n",
       "Brand                                                                   Generic   \n",
       "Dosage                                                            600/300/300mg   \n",
       "Dosage Form                                                        Tablet - FDC   \n",
       "Unit of Measure (Per Pack)                                                   30   \n",
       "Line Item Quantity                                                       514526   \n",
       "Line Item Value                                                      5140114.74   \n",
       "Pack Price                                                                 9.99   \n",
       "Unit Price                                                                 0.33   \n",
       "Manufacturing Site                                Cipla Ltd A-42 MIDC Mahar. IN   \n",
       "First Line Designation                                                       No   \n",
       "Weight (Kilograms)                                   Weight Captured Separately   \n",
       "Freight Cost (USD)                           Freight Included in Commodity Cost   \n",
       "Line Item Insurance (USD)                                               5284.04   \n",
       "\n",
       "                                                                          10322  \\\n",
       "ID                                                                        86822   \n",
       "Project Code                                                         200-ZW-T30   \n",
       "PQ #                                                                  FPQ-16523   \n",
       "PO / SO #                                                              SO-51680   \n",
       "ASN/DN #                                                                DN-4334   \n",
       "Country                                                                Zimbabwe   \n",
       "Managed By                                                             PMO - US   \n",
       "Fulfill Via                                                            From RDC   \n",
       "Vendor INCO Term                                                 N/A - From RDC   \n",
       "Shipment Mode                                                             Truck   \n",
       "PQ First Sent to Client Date                                             7/1/15   \n",
       "PO Sent to Vendor Date                                           N/A - From RDC   \n",
       "Scheduled Delivery Date                                                9-Sep-15   \n",
       "Delivered to Client Date                                               4-Aug-15   \n",
       "Delivery Recorded Date                                                11-Aug-15   \n",
       "Product Group                                                               ARV   \n",
       "Sub Classification                                                        Adult   \n",
       "Vendor                                                            SCMS from RDC   \n",
       "Item Description              Lamivudine/Zidovudine 150/300mg, tablets, 60 Tabs   \n",
       "Molecule/Test Type                                        Lamivudine/Zidovudine   \n",
       "Brand                                                                   Generic   \n",
       "Dosage                                                                150/300mg   \n",
       "Dosage Form                                                        Tablet - FDC   \n",
       "Unit of Measure (Per Pack)                                                   60   \n",
       "Line Item Quantity                                                        17465   \n",
       "Line Item Value                                                        113871.8   \n",
       "Pack Price                                                                 6.52   \n",
       "Unit Price                                                                 0.11   \n",
       "Manufacturing Site                               Mylan (formerly Matrix) Nashik   \n",
       "First Line Designation                                                      Yes   \n",
       "Weight (Kilograms)                                                         1392   \n",
       "Freight Cost (USD)                           Freight Included in Commodity Cost   \n",
       "Line Item Insurance (USD)                                                134.03   \n",
       "\n",
       "                                                                          10323  \n",
       "ID                                                                        86823  \n",
       "Project Code                                                         103-ZW-T30  \n",
       "PQ #                                                                  FPQ-15197  \n",
       "PO / SO #                                                              SO-50022  \n",
       "ASN/DN #                                                                DN-4336  \n",
       "Country                                                                Zimbabwe  \n",
       "Managed By                                                             PMO - US  \n",
       "Fulfill Via                                                            From RDC  \n",
       "Vendor INCO Term                                                 N/A - From RDC  \n",
       "Shipment Mode                                                             Truck  \n",
       "PQ First Sent to Client Date                                           10/16/14  \n",
       "PO Sent to Vendor Date                                           N/A - From RDC  \n",
       "Scheduled Delivery Date                                               31-Aug-15  \n",
       "Delivered to Client Date                                               4-Aug-15  \n",
       "Delivery Recorded Date                                                11-Aug-15  \n",
       "Product Group                                                               ARV  \n",
       "Sub Classification                                                    Pediatric  \n",
       "Vendor                                                            SCMS from RDC  \n",
       "Item Description              Lamivudine/Zidovudine 30/60mg, dispersible tab...  \n",
       "Molecule/Test Type                                        Lamivudine/Zidovudine  \n",
       "Brand                                                                   Generic  \n",
       "Dosage                                                                  30/60mg  \n",
       "Dosage Form                                   Chewable/dispersible tablet - FDC  \n",
       "Unit of Measure (Per Pack)                                                   60  \n",
       "Line Item Quantity                                                        36639  \n",
       "Line Item Value                                                        72911.61  \n",
       "Pack Price                                                                 1.99  \n",
       "Unit Price                                                                 0.03  \n",
       "Manufacturing Site                                            Cipla, Goa, India  \n",
       "First Line Designation                                                       No  \n",
       "Weight (Kilograms)                                   Weight Captured Separately  \n",
       "Freight Cost (USD)                           Freight Included in Commodity Cost  \n",
       "Line Item Insurance (USD)                                                 85.82  "
      ]
     },
     "execution_count": 435,
     "metadata": {},
     "output_type": "execute_result"
    }
   ],
   "source": [
    "dataset.tail(3).T"
   ]
  },
  {
   "cell_type": "code",
   "execution_count": 436,
   "id": "0f246754-0577-4bb4-8f99-d0ea3b2915eb",
   "metadata": {},
   "outputs": [
    {
     "data": {
      "text/plain": [
       "South Africa          1406\n",
       "Nigeria               1194\n",
       "Côte d'Ivoire         1083\n",
       "Uganda                 779\n",
       "Vietnam                688\n",
       "Zambia                 683\n",
       "Haiti                  655\n",
       "Mozambique             631\n",
       "Zimbabwe               538\n",
       "Tanzania               519\n",
       "Rwanda                 430\n",
       "Congo, DRC             333\n",
       "Guyana                 237\n",
       "Ethiopia               216\n",
       "South Sudan            164\n",
       "Kenya                  111\n",
       "Burundi                 98\n",
       "Namibia                 95\n",
       "Cameroon                75\n",
       "Botswana                70\n",
       "Ghana                   58\n",
       "Dominican Republic      52\n",
       "Sudan                   46\n",
       "Swaziland               35\n",
       "Mali                    17\n",
       "Pakistan                15\n",
       "Guatemala               15\n",
       "Malawi                  14\n",
       "Benin                   13\n",
       "Lebanon                  8\n",
       "Libya                    8\n",
       "Angola                   7\n",
       "Liberia                  6\n",
       "Sierra Leone             4\n",
       "Lesotho                  4\n",
       "Togo                     3\n",
       "Afghanistan              3\n",
       "Senegal                  3\n",
       "Kazakhstan               2\n",
       "Kyrgyzstan               2\n",
       "Burkina Faso             2\n",
       "Guinea                   1\n",
       "Belize                   1\n",
       "Name: Country, dtype: int64"
      ]
     },
     "execution_count": 436,
     "metadata": {},
     "output_type": "execute_result"
    }
   ],
   "source": [
    "dataset['Country'].value_counts()"
   ]
  },
  {
   "cell_type": "markdown",
   "id": "d53c2e9e-29a5-4b34-a76d-02bb3e2f1df2",
   "metadata": {},
   "source": [
    "# Top 5 Countries"
   ]
  },
  {
   "cell_type": "code",
   "execution_count": 437,
   "id": "8e6e1676-9485-454f-86a7-97c3b2d5c217",
   "metadata": {},
   "outputs": [],
   "source": [
    "top5_country = dataset['Country'].value_counts().nlargest(5)"
   ]
  },
  {
   "cell_type": "code",
   "execution_count": 438,
   "id": "b1e954dd-d5fa-4967-aed2-f67e59056b95",
   "metadata": {},
   "outputs": [
    {
     "data": {
      "text/plain": [
       "South Africa     1406\n",
       "Nigeria          1194\n",
       "Côte d'Ivoire    1083\n",
       "Uganda            779\n",
       "Vietnam           688\n",
       "Name: Country, dtype: int64"
      ]
     },
     "execution_count": 438,
     "metadata": {},
     "output_type": "execute_result"
    }
   ],
   "source": [
    "top5_country"
   ]
  },
  {
   "cell_type": "code",
   "execution_count": 439,
   "id": "d09e7dcd-2df8-47a1-8507-5a20cc99c788",
   "metadata": {},
   "outputs": [
    {
     "data": {
      "text/plain": [
       "count            10324\n",
       "unique              43\n",
       "top       South Africa\n",
       "freq              1406\n",
       "Name: Country, dtype: object"
      ]
     },
     "execution_count": 439,
     "metadata": {},
     "output_type": "execute_result"
    }
   ],
   "source": [
    "dataset['Country'].describe()"
   ]
  },
  {
   "cell_type": "code",
   "execution_count": 612,
   "id": "7ea3ed7d-8649-4069-ac39-851c7d97b2dd",
   "metadata": {},
   "outputs": [
    {
     "data": {
      "text/plain": [
       "Text(0.5, 0, 'Country Name')"
      ]
     },
     "execution_count": 612,
     "metadata": {},
     "output_type": "execute_result"
    },
    {
     "data": {
      "image/png": "[encoded data removed]",
      "text/plain": [
       "<Figure size 432x288 with 1 Axes>"
      ]
     },
     "metadata": {},
     "output_type": "display_data"
    }
   ],
   "source": [
    "sns.countplot(data=dataset, x='Country', order= dataset.Country.value_counts().nlargest(5).index)\n",
    "sns.set()\n",
    "plt.title('Top 5 Country Wise by Count', size=18)\n",
    "plt.ylabel('Total Count'size=18)\n",
    "plt.xlabel('Country Name', size= 15)"
   ]
  },
  {
   "cell_type": "markdown",
   "id": "16747c59-9376-4104-8894-72e55084c79a",
   "metadata": {},
   "source": [
    "# Bottom 5 Countries"
   ]
  },
  {
   "cell_type": "code",
   "execution_count": 441,
   "id": "69897978-7e3b-457c-b152-71763519ac6c",
   "metadata": {},
   "outputs": [],
   "source": [
    "bottom5_country = dataset['Country'].value_counts().nsmallest(5)"
   ]
  },
  {
   "cell_type": "code",
   "execution_count": 442,
   "id": "518dfc97-8e13-4655-944b-6478f94086a4",
   "metadata": {},
   "outputs": [
    {
     "data": {
      "text/plain": [
       "Guinea          1\n",
       "Belize          1\n",
       "Kazakhstan      2\n",
       "Kyrgyzstan      2\n",
       "Burkina Faso    2\n",
       "Name: Country, dtype: int64"
      ]
     },
     "execution_count": 442,
     "metadata": {},
     "output_type": "execute_result"
    }
   ],
   "source": [
    "bottom5_country"
   ]
  },
  {
   "cell_type": "code",
   "execution_count": 613,
   "id": "8659cf86-b79f-4f49-8883-54d6c0199f25",
   "metadata": {},
   "outputs": [
    {
     "data": {
      "text/plain": [
       "Text(0.5, 1.0, 'Bottom 5 Country Wise by Count')"
      ]
     },
     "execution_count": 613,
     "metadata": {},
     "output_type": "execute_result"
    },
    {
     "data": {
      "image/png": "[encoded data removed]",
      "text/plain": [
       "<Figure size 432x288 with 1 Axes>"
      ]
     },
     "metadata": {},
     "output_type": "display_data"
    }
   ],
   "source": [
    "sns.countplot(data=dataset, x='Country', order=dataset.Country.value_counts().nsmallest(5).index)\n",
    "sns.set()\n",
    "plt.xlabel('Country', size=15)\n",
    "plt.ylabel('Total Count', size=15)\n",
    "plt.title('Bottom 5 Country Wise by Count', size=18)"
   ]
  },
  {
   "cell_type": "markdown",
   "id": "429ab6b4-1529-4a1a-aa56-94dabb28639d",
   "metadata": {},
   "source": [
    "# Top 5 Brands"
   ]
  },
  {
   "cell_type": "code",
   "execution_count": 614,
   "id": "b60b723a-1d80-40aa-802b-cb029bfba03c",
   "metadata": {},
   "outputs": [
    {
     "data": {
      "text/plain": [
       "Text(0.5, 0, 'Brand Name')"
      ]
     },
     "execution_count": 614,
     "metadata": {},
     "output_type": "execute_result"
    },
    {
     "data": {
      "image/png": "[encoded data removed]",
      "text/plain": [
       "<Figure size 432x288 with 1 Axes>"
      ]
     },
     "metadata": {},
     "output_type": "display_data"
    }
   ],
   "source": [
    "sns.countplot(data=dataset, x='Brand', order= dataset.Brand.value_counts().nlargest(5).index)\n",
    "sns.set()\n",
    "plt.title('Top 5 Brand Wise by Count', size=18)\n",
    "plt.ylabel('Total Count', size=15)\n",
    "plt.xlabel('Brand Name', size=5)"
   ]
  },
  {
   "cell_type": "code",
   "execution_count": 617,
   "id": "6f8bbd2a-4722-4270-85e4-da3b7ca5ac56",
   "metadata": {},
   "outputs": [
    {
     "data": {
      "text/plain": [
       "count       10324\n",
       "unique         48\n",
       "top       Generic\n",
       "freq         7285\n",
       "Name: Brand, dtype: object"
      ]
     },
     "execution_count": 617,
     "metadata": {},
     "output_type": "execute_result"
    }
   ],
   "source": [
    "dataset['Brand'].describe()"
   ]
  },
  {
   "cell_type": "markdown",
   "id": "511126e4-5acc-4468-84f3-ecba08a9fbd1",
   "metadata": {},
   "source": [
    "- The top #1 Brand is Generic"
   ]
  },
  {
   "cell_type": "markdown",
   "id": "db1ef1dc-f2d8-4b47-9905-2591d87b015b",
   "metadata": {},
   "source": [
    "# Shipment in 2006 - 2015"
   ]
  },
  {
   "cell_type": "code",
   "execution_count": 445,
   "id": "385583bb-696a-420c-a8a6-39e0c738992c",
   "metadata": {},
   "outputs": [],
   "source": [
    "import datetime"
   ]
  },
  {
   "cell_type": "code",
   "execution_count": 446,
   "id": "ca42f5ae-b0b9-484a-9a32-d8a85d053817",
   "metadata": {},
   "outputs": [
    {
     "data": {
      "text/plain": [
       "count         10324\n",
       "unique         2006\n",
       "top       29-Aug-14\n",
       "freq             97\n",
       "Name: Scheduled Delivery Date, dtype: object"
      ]
     },
     "execution_count": 446,
     "metadata": {},
     "output_type": "execute_result"
    }
   ],
   "source": [
    "dataset['Scheduled Delivery Date'].describe()"
   ]
  },
  {
   "cell_type": "code",
   "execution_count": 633,
   "id": "63285839-f07a-48fd-bef3-4ec7e5d8b7e3",
   "metadata": {},
   "outputs": [],
   "source": [
    "delivery_time = dataset[['ID', 'Country', 'Unit of Measure (Per Pack)', 'Scheduled Delivery Date']]"
   ]
  },
  {
   "cell_type": "code",
   "execution_count": 634,
   "id": "8d51e71d-f1b7-4ef7-8d88-cb2c951c1bf1",
   "metadata": {},
   "outputs": [
    {
     "data": {
      "text/html": [
       "<div>\n",
       "<style scoped>\n",
       "    .dataframe tbody tr th:only-of-type {\n",
       "        vertical-align: middle;\n",
       "    }\n",
       "\n",
       "    .dataframe tbody tr th {\n",
       "        vertical-align: top;\n",
       "    }\n",
       "\n",
       "    .dataframe thead th {\n",
       "        text-align: right;\n",
       "    }\n",
       "</style>\n",
       "<table border=\"1\" class=\"dataframe\">\n",
       "  <thead>\n",
       "    <tr style=\"text-align: right;\">\n",
       "      <th></th>\n",
       "      <th>ID</th>\n",
       "      <th>Country</th>\n",
       "      <th>Unit of Measure (Per Pack)</th>\n",
       "      <th>Scheduled Delivery Date</th>\n",
       "    </tr>\n",
       "  </thead>\n",
       "  <tbody>\n",
       "    <tr>\n",
       "      <th>0</th>\n",
       "      <td>1</td>\n",
       "      <td>Côte d'Ivoire</td>\n",
       "      <td>30</td>\n",
       "      <td>2-Jun-06</td>\n",
       "    </tr>\n",
       "    <tr>\n",
       "      <th>1</th>\n",
       "      <td>3</td>\n",
       "      <td>Vietnam</td>\n",
       "      <td>240</td>\n",
       "      <td>14-Nov-06</td>\n",
       "    </tr>\n",
       "    <tr>\n",
       "      <th>2</th>\n",
       "      <td>4</td>\n",
       "      <td>Côte d'Ivoire</td>\n",
       "      <td>100</td>\n",
       "      <td>27-Aug-06</td>\n",
       "    </tr>\n",
       "    <tr>\n",
       "      <th>3</th>\n",
       "      <td>15</td>\n",
       "      <td>Vietnam</td>\n",
       "      <td>60</td>\n",
       "      <td>1-Sep-06</td>\n",
       "    </tr>\n",
       "    <tr>\n",
       "      <th>4</th>\n",
       "      <td>16</td>\n",
       "      <td>Vietnam</td>\n",
       "      <td>60</td>\n",
       "      <td>11-Aug-06</td>\n",
       "    </tr>\n",
       "    <tr>\n",
       "      <th>...</th>\n",
       "      <td>...</td>\n",
       "      <td>...</td>\n",
       "      <td>...</td>\n",
       "      <td>...</td>\n",
       "    </tr>\n",
       "    <tr>\n",
       "      <th>10319</th>\n",
       "      <td>86818</td>\n",
       "      <td>Zimbabwe</td>\n",
       "      <td>60</td>\n",
       "      <td>31-Jul-15</td>\n",
       "    </tr>\n",
       "    <tr>\n",
       "      <th>10320</th>\n",
       "      <td>86819</td>\n",
       "      <td>Côte d'Ivoire</td>\n",
       "      <td>60</td>\n",
       "      <td>31-Jul-15</td>\n",
       "    </tr>\n",
       "    <tr>\n",
       "      <th>10321</th>\n",
       "      <td>86821</td>\n",
       "      <td>Zambia</td>\n",
       "      <td>30</td>\n",
       "      <td>31-Aug-15</td>\n",
       "    </tr>\n",
       "    <tr>\n",
       "      <th>10322</th>\n",
       "      <td>86822</td>\n",
       "      <td>Zimbabwe</td>\n",
       "      <td>60</td>\n",
       "      <td>9-Sep-15</td>\n",
       "    </tr>\n",
       "    <tr>\n",
       "      <th>10323</th>\n",
       "      <td>86823</td>\n",
       "      <td>Zimbabwe</td>\n",
       "      <td>60</td>\n",
       "      <td>31-Aug-15</td>\n",
       "    </tr>\n",
       "  </tbody>\n",
       "</table>\n",
       "<p>10324 rows × 4 columns</p>\n",
       "</div>"
      ],
      "text/plain": [
       "          ID        Country  Unit of Measure (Per Pack)  \\\n",
       "0          1  Côte d'Ivoire                          30   \n",
       "1          3        Vietnam                         240   \n",
       "2          4  Côte d'Ivoire                         100   \n",
       "3         15        Vietnam                          60   \n",
       "4         16        Vietnam                          60   \n",
       "...      ...            ...                         ...   \n",
       "10319  86818       Zimbabwe                          60   \n",
       "10320  86819  Côte d'Ivoire                          60   \n",
       "10321  86821         Zambia                          30   \n",
       "10322  86822       Zimbabwe                          60   \n",
       "10323  86823       Zimbabwe                          60   \n",
       "\n",
       "      Scheduled Delivery Date  \n",
       "0                    2-Jun-06  \n",
       "1                   14-Nov-06  \n",
       "2                   27-Aug-06  \n",
       "3                    1-Sep-06  \n",
       "4                   11-Aug-06  \n",
       "...                       ...  \n",
       "10319               31-Jul-15  \n",
       "10320               31-Jul-15  \n",
       "10321               31-Aug-15  \n",
       "10322                9-Sep-15  \n",
       "10323               31-Aug-15  \n",
       "\n",
       "[10324 rows x 4 columns]"
      ]
     },
     "execution_count": 634,
     "metadata": {},
     "output_type": "execute_result"
    }
   ],
   "source": [
    "delivery_time"
   ]
  },
  {
   "cell_type": "code",
   "execution_count": 618,
   "id": "53b2a4f8-e1ec-4ee8-8e59-a022e3f24ff6",
   "metadata": {},
   "outputs": [],
   "source": [
    "#delivery_time_year = pd.to_datetime(dataset['Scheduled Delivery Date'])"
   ]
  },
  {
   "cell_type": "code",
   "execution_count": 619,
   "id": "9b41f8ae-2925-402e-84f0-fd114d815907",
   "metadata": {},
   "outputs": [
    {
     "name": "stderr",
     "output_type": "stream",
     "text": [
      "<ipython-input-619-6905804c0c8f>:1: SettingWithCopyWarning: \n",
      "A value is trying to be set on a copy of a slice from a DataFrame.\n",
      "Try using .loc[row_indexer,col_indexer] = value instead\n",
      "\n",
      "See the caveats in the documentation: https://pandas.pydata.org/pandas-docs/stable/user_guide/indexing.html#returning-a-view-versus-a-copy\n",
      "  delivery_time['year'] = pd.DatetimeIndex(dataset['Scheduled Delivery Date']).year\n"
     ]
    }
   ],
   "source": [
    "delivery_time['year'] = pd.DatetimeIndex(dataset['Scheduled Delivery Date']).year"
   ]
  },
  {
   "cell_type": "code",
   "execution_count": 620,
   "id": "b6c0fa5f-01ba-4220-a09f-82f670265077",
   "metadata": {},
   "outputs": [
    {
     "data": {
      "text/html": [
       "<div>\n",
       "<style scoped>\n",
       "    .dataframe tbody tr th:only-of-type {\n",
       "        vertical-align: middle;\n",
       "    }\n",
       "\n",
       "    .dataframe tbody tr th {\n",
       "        vertical-align: top;\n",
       "    }\n",
       "\n",
       "    .dataframe thead th {\n",
       "        text-align: right;\n",
       "    }\n",
       "</style>\n",
       "<table border=\"1\" class=\"dataframe\">\n",
       "  <thead>\n",
       "    <tr style=\"text-align: right;\">\n",
       "      <th></th>\n",
       "      <th>ID</th>\n",
       "      <th>Country</th>\n",
       "      <th>Unit of Measure (Per Pack)</th>\n",
       "      <th>Scheduled Delivery Date</th>\n",
       "      <th>year</th>\n",
       "    </tr>\n",
       "  </thead>\n",
       "  <tbody>\n",
       "    <tr>\n",
       "      <th>0</th>\n",
       "      <td>1</td>\n",
       "      <td>Côte d'Ivoire</td>\n",
       "      <td>30</td>\n",
       "      <td>2-Jun-06</td>\n",
       "      <td>2006</td>\n",
       "    </tr>\n",
       "    <tr>\n",
       "      <th>1</th>\n",
       "      <td>3</td>\n",
       "      <td>Vietnam</td>\n",
       "      <td>240</td>\n",
       "      <td>14-Nov-06</td>\n",
       "      <td>2006</td>\n",
       "    </tr>\n",
       "    <tr>\n",
       "      <th>2</th>\n",
       "      <td>4</td>\n",
       "      <td>Côte d'Ivoire</td>\n",
       "      <td>100</td>\n",
       "      <td>27-Aug-06</td>\n",
       "      <td>2006</td>\n",
       "    </tr>\n",
       "    <tr>\n",
       "      <th>3</th>\n",
       "      <td>15</td>\n",
       "      <td>Vietnam</td>\n",
       "      <td>60</td>\n",
       "      <td>1-Sep-06</td>\n",
       "      <td>2006</td>\n",
       "    </tr>\n",
       "    <tr>\n",
       "      <th>4</th>\n",
       "      <td>16</td>\n",
       "      <td>Vietnam</td>\n",
       "      <td>60</td>\n",
       "      <td>11-Aug-06</td>\n",
       "      <td>2006</td>\n",
       "    </tr>\n",
       "    <tr>\n",
       "      <th>...</th>\n",
       "      <td>...</td>\n",
       "      <td>...</td>\n",
       "      <td>...</td>\n",
       "      <td>...</td>\n",
       "      <td>...</td>\n",
       "    </tr>\n",
       "    <tr>\n",
       "      <th>10319</th>\n",
       "      <td>86818</td>\n",
       "      <td>Zimbabwe</td>\n",
       "      <td>60</td>\n",
       "      <td>31-Jul-15</td>\n",
       "      <td>2015</td>\n",
       "    </tr>\n",
       "    <tr>\n",
       "      <th>10320</th>\n",
       "      <td>86819</td>\n",
       "      <td>Côte d'Ivoire</td>\n",
       "      <td>60</td>\n",
       "      <td>31-Jul-15</td>\n",
       "      <td>2015</td>\n",
       "    </tr>\n",
       "    <tr>\n",
       "      <th>10321</th>\n",
       "      <td>86821</td>\n",
       "      <td>Zambia</td>\n",
       "      <td>30</td>\n",
       "      <td>31-Aug-15</td>\n",
       "      <td>2015</td>\n",
       "    </tr>\n",
       "    <tr>\n",
       "      <th>10322</th>\n",
       "      <td>86822</td>\n",
       "      <td>Zimbabwe</td>\n",
       "      <td>60</td>\n",
       "      <td>9-Sep-15</td>\n",
       "      <td>2015</td>\n",
       "    </tr>\n",
       "    <tr>\n",
       "      <th>10323</th>\n",
       "      <td>86823</td>\n",
       "      <td>Zimbabwe</td>\n",
       "      <td>60</td>\n",
       "      <td>31-Aug-15</td>\n",
       "      <td>2015</td>\n",
       "    </tr>\n",
       "  </tbody>\n",
       "</table>\n",
       "<p>10324 rows × 5 columns</p>\n",
       "</div>"
      ],
      "text/plain": [
       "          ID        Country  Unit of Measure (Per Pack)  \\\n",
       "0          1  Côte d'Ivoire                          30   \n",
       "1          3        Vietnam                         240   \n",
       "2          4  Côte d'Ivoire                         100   \n",
       "3         15        Vietnam                          60   \n",
       "4         16        Vietnam                          60   \n",
       "...      ...            ...                         ...   \n",
       "10319  86818       Zimbabwe                          60   \n",
       "10320  86819  Côte d'Ivoire                          60   \n",
       "10321  86821         Zambia                          30   \n",
       "10322  86822       Zimbabwe                          60   \n",
       "10323  86823       Zimbabwe                          60   \n",
       "\n",
       "      Scheduled Delivery Date  year  \n",
       "0                    2-Jun-06  2006  \n",
       "1                   14-Nov-06  2006  \n",
       "2                   27-Aug-06  2006  \n",
       "3                    1-Sep-06  2006  \n",
       "4                   11-Aug-06  2006  \n",
       "...                       ...   ...  \n",
       "10319               31-Jul-15  2015  \n",
       "10320               31-Jul-15  2015  \n",
       "10321               31-Aug-15  2015  \n",
       "10322                9-Sep-15  2015  \n",
       "10323               31-Aug-15  2015  \n",
       "\n",
       "[10324 rows x 5 columns]"
      ]
     },
     "execution_count": 620,
     "metadata": {},
     "output_type": "execute_result"
    }
   ],
   "source": [
    "delivery_time"
   ]
  },
  {
   "cell_type": "code",
   "execution_count": 452,
   "id": "82830b16-391b-4598-8304-6a37ba3750be",
   "metadata": {},
   "outputs": [],
   "source": [
    "#order=df.sort_values('year',ascending = False).year"
   ]
  },
  {
   "cell_type": "code",
   "execution_count": 493,
   "id": "592af6fb-0169-4cb0-b0e6-2c85aac78580",
   "metadata": {},
   "outputs": [
    {
     "data": {
      "text/plain": [
       "count         10324\n",
       "unique         2006\n",
       "top       29-Aug-14\n",
       "freq             97\n",
       "Name: Scheduled Delivery Date, dtype: object"
      ]
     },
     "execution_count": 493,
     "metadata": {},
     "output_type": "execute_result"
    }
   ],
   "source": [
    "delivery_time['Scheduled Delivery Date'].describe()"
   ]
  },
  {
   "cell_type": "code",
   "execution_count": 621,
   "id": "d8401da8-6c78-464e-8b55-a1a2a53d84fb",
   "metadata": {},
   "outputs": [
    {
     "data": {
      "text/plain": [
       "Text(0.5, 1.0, 'Tota Order by Count 2006 - 2015')"
      ]
     },
     "execution_count": 621,
     "metadata": {},
     "output_type": "execute_result"
    },
    {
     "data": {
      "image/png": "[encoded data removed]",
      "text/plain": [
       "<Figure size 720x360 with 1 Axes>"
      ]
     },
     "metadata": {},
     "output_type": "display_data"
    }
   ],
   "source": [
    "sns.set()\n",
    "fig,ax = plt.subplots(figsize=(10,5))\n",
    "sns.countplot(data=delivery_time, x='year', order= df.year.value_counts().index)\n",
    "plt.xlabel('Year', size=15)\n",
    "plt.ylabel('Total Count', size=15)\n",
    "plt.title('Total Order by Count 2006 - 2015', size=18)\n",
    "##besok tanyain kenapa gak ke sort ascending?"
   ]
  },
  {
   "cell_type": "code",
   "execution_count": 495,
   "id": "7133f6a0-8e8c-4871-9f0a-deb47a9ebb7d",
   "metadata": {},
   "outputs": [
    {
     "data": {
      "text/plain": [
       "Text(0.5, 1.0, 'Order 2006 - 2015')"
      ]
     },
     "execution_count": 495,
     "metadata": {},
     "output_type": "execute_result"
    },
    {
     "data": {
      "image/png": "[encoded data removed]",
      "text/plain": [
       "<Figure size 720x360 with 1 Axes>"
      ]
     },
     "metadata": {},
     "output_type": "display_data"
    }
   ],
   "source": [
    "sns.set()\n",
    "fig,ax = plt.subplots(figsize=(10,5))\n",
    "sns.lineplot(x='year', y='ID', data=delivery_time, sort=True)\n",
    "plt.xlabel('Year', size=15)\n",
    "plt.ylabel('Total Count', size=15)\n",
    "plt.title('Order 2006 - 2015', size=18)"
   ]
  },
  {
   "cell_type": "markdown",
   "id": "bbc1519d-9152-4df5-b63a-191437aa4859",
   "metadata": {},
   "source": [
    "- Inquery suprisingly increased in 2008. "
   ]
  },
  {
   "cell_type": "markdown",
   "id": "d768ff13-07a6-49af-b7eb-8b1c982a2262",
   "metadata": {},
   "source": [
    "# Country X Year"
   ]
  },
  {
   "cell_type": "code",
   "execution_count": 496,
   "id": "3aaf3e23-6091-413e-82d2-f83d3f738e19",
   "metadata": {},
   "outputs": [],
   "source": [
    "country_by_year = delivery_time[['Country', 'year']]"
   ]
  },
  {
   "cell_type": "code",
   "execution_count": 497,
   "id": "56fb8f36-9a1e-4b42-b333-c785a89c418f",
   "metadata": {},
   "outputs": [],
   "source": [
    "country_by_year.value_counts().nlargest(10)\n",
    "order=country_by_year.sort_values('year',ascending = False).year"
   ]
  },
  {
   "cell_type": "code",
   "execution_count": 498,
   "id": "b1771d7c-3a36-4e60-b778-ecd376eb5ce7",
   "metadata": {},
   "outputs": [
    {
     "name": "stdout",
     "output_type": "stream",
     "text": [
      "<class 'pandas.core.frame.DataFrame'>\n",
      "RangeIndex: 10324 entries, 0 to 10323\n",
      "Data columns (total 2 columns):\n",
      " #   Column   Non-Null Count  Dtype \n",
      "---  ------   --------------  ----- \n",
      " 0   Country  10324 non-null  object\n",
      " 1   year     10324 non-null  int64 \n",
      "dtypes: int64(1), object(1)\n",
      "memory usage: 161.4+ KB\n"
     ]
    }
   ],
   "source": [
    "country_by_year.info()"
   ]
  },
  {
   "cell_type": "code",
   "execution_count": 499,
   "id": "9775266e-5cd2-425c-b6c1-d2d1ba65b95e",
   "metadata": {},
   "outputs": [
    {
     "data": {
      "text/html": [
       "<div>\n",
       "<style scoped>\n",
       "    .dataframe tbody tr th:only-of-type {\n",
       "        vertical-align: middle;\n",
       "    }\n",
       "\n",
       "    .dataframe tbody tr th {\n",
       "        vertical-align: top;\n",
       "    }\n",
       "\n",
       "    .dataframe thead th {\n",
       "        text-align: right;\n",
       "    }\n",
       "</style>\n",
       "<table border=\"1\" class=\"dataframe\">\n",
       "  <thead>\n",
       "    <tr style=\"text-align: right;\">\n",
       "      <th></th>\n",
       "      <th>Country</th>\n",
       "      <th>year</th>\n",
       "    </tr>\n",
       "  </thead>\n",
       "  <tbody>\n",
       "    <tr>\n",
       "      <th>0</th>\n",
       "      <td>Côte d'Ivoire</td>\n",
       "      <td>2006</td>\n",
       "    </tr>\n",
       "    <tr>\n",
       "      <th>1</th>\n",
       "      <td>Vietnam</td>\n",
       "      <td>2006</td>\n",
       "    </tr>\n",
       "    <tr>\n",
       "      <th>2</th>\n",
       "      <td>Côte d'Ivoire</td>\n",
       "      <td>2006</td>\n",
       "    </tr>\n",
       "    <tr>\n",
       "      <th>3</th>\n",
       "      <td>Vietnam</td>\n",
       "      <td>2006</td>\n",
       "    </tr>\n",
       "    <tr>\n",
       "      <th>4</th>\n",
       "      <td>Vietnam</td>\n",
       "      <td>2006</td>\n",
       "    </tr>\n",
       "    <tr>\n",
       "      <th>...</th>\n",
       "      <td>...</td>\n",
       "      <td>...</td>\n",
       "    </tr>\n",
       "    <tr>\n",
       "      <th>10319</th>\n",
       "      <td>Zimbabwe</td>\n",
       "      <td>2015</td>\n",
       "    </tr>\n",
       "    <tr>\n",
       "      <th>10320</th>\n",
       "      <td>Côte d'Ivoire</td>\n",
       "      <td>2015</td>\n",
       "    </tr>\n",
       "    <tr>\n",
       "      <th>10321</th>\n",
       "      <td>Zambia</td>\n",
       "      <td>2015</td>\n",
       "    </tr>\n",
       "    <tr>\n",
       "      <th>10322</th>\n",
       "      <td>Zimbabwe</td>\n",
       "      <td>2015</td>\n",
       "    </tr>\n",
       "    <tr>\n",
       "      <th>10323</th>\n",
       "      <td>Zimbabwe</td>\n",
       "      <td>2015</td>\n",
       "    </tr>\n",
       "  </tbody>\n",
       "</table>\n",
       "<p>10324 rows × 2 columns</p>\n",
       "</div>"
      ],
      "text/plain": [
       "             Country  year\n",
       "0      Côte d'Ivoire  2006\n",
       "1            Vietnam  2006\n",
       "2      Côte d'Ivoire  2006\n",
       "3            Vietnam  2006\n",
       "4            Vietnam  2006\n",
       "...              ...   ...\n",
       "10319       Zimbabwe  2015\n",
       "10320  Côte d'Ivoire  2015\n",
       "10321         Zambia  2015\n",
       "10322       Zimbabwe  2015\n",
       "10323       Zimbabwe  2015\n",
       "\n",
       "[10324 rows x 2 columns]"
      ]
     },
     "execution_count": 499,
     "metadata": {},
     "output_type": "execute_result"
    }
   ],
   "source": [
    "country_by_year"
   ]
  },
  {
   "cell_type": "code",
   "execution_count": 500,
   "id": "d0af8506-1d85-4c6c-81ba-c232f7a13752",
   "metadata": {},
   "outputs": [],
   "source": [
    "index_2006 = country_by_year[country_by_year['year'] == 2006].index\n",
    "index_2007 = country_by_year[country_by_year['year'] == 2007].index"
   ]
  },
  {
   "cell_type": "code",
   "execution_count": 501,
   "id": "ea6f4eb0-5378-446c-af55-fdf41bb4a62b",
   "metadata": {},
   "outputs": [
    {
     "name": "stderr",
     "output_type": "stream",
     "text": [
      "/Users/ulfah/opt/anaconda3/lib/python3.8/site-packages/pandas/core/frame.py:4308: SettingWithCopyWarning: \n",
      "A value is trying to be set on a copy of a slice from a DataFrame\n",
      "\n",
      "See the caveats in the documentation: https://pandas.pydata.org/pandas-docs/stable/user_guide/indexing.html#returning-a-view-versus-a-copy\n",
      "  return super().drop(\n"
     ]
    }
   ],
   "source": [
    "country_by_year.drop(index_2006, inplace = True)\n",
    "country_by_year.drop(index_2007, inplace = True)"
   ]
  },
  {
   "cell_type": "code",
   "execution_count": 502,
   "id": "7bec9b94-a5c0-4e76-9ad8-1627b4897569",
   "metadata": {},
   "outputs": [
    {
     "data": {
      "text/html": [
       "<div>\n",
       "<style scoped>\n",
       "    .dataframe tbody tr th:only-of-type {\n",
       "        vertical-align: middle;\n",
       "    }\n",
       "\n",
       "    .dataframe tbody tr th {\n",
       "        vertical-align: top;\n",
       "    }\n",
       "\n",
       "    .dataframe thead th {\n",
       "        text-align: right;\n",
       "    }\n",
       "</style>\n",
       "<table border=\"1\" class=\"dataframe\">\n",
       "  <thead>\n",
       "    <tr style=\"text-align: right;\">\n",
       "      <th></th>\n",
       "      <th>Country</th>\n",
       "      <th>year</th>\n",
       "    </tr>\n",
       "  </thead>\n",
       "  <tbody>\n",
       "    <tr>\n",
       "      <th>31</th>\n",
       "      <td>South Africa</td>\n",
       "      <td>2008</td>\n",
       "    </tr>\n",
       "    <tr>\n",
       "      <th>32</th>\n",
       "      <td>Vietnam</td>\n",
       "      <td>2008</td>\n",
       "    </tr>\n",
       "    <tr>\n",
       "      <th>33</th>\n",
       "      <td>Vietnam</td>\n",
       "      <td>2008</td>\n",
       "    </tr>\n",
       "    <tr>\n",
       "      <th>34</th>\n",
       "      <td>Rwanda</td>\n",
       "      <td>2008</td>\n",
       "    </tr>\n",
       "    <tr>\n",
       "      <th>35</th>\n",
       "      <td>Nigeria</td>\n",
       "      <td>2008</td>\n",
       "    </tr>\n",
       "    <tr>\n",
       "      <th>...</th>\n",
       "      <td>...</td>\n",
       "      <td>...</td>\n",
       "    </tr>\n",
       "    <tr>\n",
       "      <th>10319</th>\n",
       "      <td>Zimbabwe</td>\n",
       "      <td>2015</td>\n",
       "    </tr>\n",
       "    <tr>\n",
       "      <th>10320</th>\n",
       "      <td>Côte d'Ivoire</td>\n",
       "      <td>2015</td>\n",
       "    </tr>\n",
       "    <tr>\n",
       "      <th>10321</th>\n",
       "      <td>Zambia</td>\n",
       "      <td>2015</td>\n",
       "    </tr>\n",
       "    <tr>\n",
       "      <th>10322</th>\n",
       "      <td>Zimbabwe</td>\n",
       "      <td>2015</td>\n",
       "    </tr>\n",
       "    <tr>\n",
       "      <th>10323</th>\n",
       "      <td>Zimbabwe</td>\n",
       "      <td>2015</td>\n",
       "    </tr>\n",
       "  </tbody>\n",
       "</table>\n",
       "<p>9587 rows × 2 columns</p>\n",
       "</div>"
      ],
      "text/plain": [
       "             Country  year\n",
       "31      South Africa  2008\n",
       "32           Vietnam  2008\n",
       "33           Vietnam  2008\n",
       "34            Rwanda  2008\n",
       "35           Nigeria  2008\n",
       "...              ...   ...\n",
       "10319       Zimbabwe  2015\n",
       "10320  Côte d'Ivoire  2015\n",
       "10321         Zambia  2015\n",
       "10322       Zimbabwe  2015\n",
       "10323       Zimbabwe  2015\n",
       "\n",
       "[9587 rows x 2 columns]"
      ]
     },
     "execution_count": 502,
     "metadata": {},
     "output_type": "execute_result"
    }
   ],
   "source": [
    "country_by_year"
   ]
  },
  {
   "cell_type": "code",
   "execution_count": 622,
   "id": "37fe1a2e-cbec-4c1e-bb49-21f9cc2cdd85",
   "metadata": {},
   "outputs": [
    {
     "data": {
      "text/plain": [
       "Text(0.5, 0, 'Country')"
      ]
     },
     "execution_count": 622,
     "metadata": {},
     "output_type": "execute_result"
    },
    {
     "data": {
      "image/png": "[encoded data removed]",
      "text/plain": [
       "<Figure size 1080x432 with 1 Axes>"
      ]
     },
     "metadata": {},
     "output_type": "display_data"
    }
   ],
   "source": [
    "sns.set()\n",
    "fig, ax = plt.subplots(figsize=(15,6))\n",
    "sns.countplot(data=country_by_year, x='Country', hue='year',\n",
    "              order= country_by_year.Country.value_counts().nlargest(5).index)\n",
    "plt.title('Top 5 Country by Counts 2008 - 2015', size=18)\n",
    "plt.ylabel('Total Counts', size=10)\n",
    "plt.xlabel('Country', size=10)"
   ]
  },
  {
   "cell_type": "markdown",
   "id": "fd723e63-3fd1-46d6-88f9-9450bf93c58e",
   "metadata": {},
   "source": [
    "- Ebola pandemic during 2014 in Africa might be caused an increasement"
   ]
  },
  {
   "cell_type": "markdown",
   "id": "0ad4c6de-3058-4d94-9212-f080b0f46d0e",
   "metadata": {},
   "source": [
    "# Shipment in 2014 - 2015"
   ]
  },
  {
   "cell_type": "code",
   "execution_count": 543,
   "id": "2d249a7e-afdb-486c-a603-aeb0adf79a42",
   "metadata": {},
   "outputs": [],
   "source": [
    "above_2013 = delivery_time[delivery_time['year'] > 2013] "
   ]
  },
  {
   "cell_type": "code",
   "execution_count": 544,
   "id": "b40b1258-199e-4777-9cc3-ed274742651a",
   "metadata": {},
   "outputs": [
    {
     "data": {
      "text/html": [
       "<div>\n",
       "<style scoped>\n",
       "    .dataframe tbody tr th:only-of-type {\n",
       "        vertical-align: middle;\n",
       "    }\n",
       "\n",
       "    .dataframe tbody tr th {\n",
       "        vertical-align: top;\n",
       "    }\n",
       "\n",
       "    .dataframe thead th {\n",
       "        text-align: right;\n",
       "    }\n",
       "</style>\n",
       "<table border=\"1\" class=\"dataframe\">\n",
       "  <thead>\n",
       "    <tr style=\"text-align: right;\">\n",
       "      <th></th>\n",
       "      <th>ID</th>\n",
       "      <th>Country</th>\n",
       "      <th>Unit of Measure (Per Pack)</th>\n",
       "      <th>Scheduled Delivery Date</th>\n",
       "      <th>year</th>\n",
       "    </tr>\n",
       "  </thead>\n",
       "  <tbody>\n",
       "    <tr>\n",
       "      <th>2682</th>\n",
       "      <td>12935</td>\n",
       "      <td>Vietnam</td>\n",
       "      <td>60</td>\n",
       "      <td>9-Jan-14</td>\n",
       "      <td>2014</td>\n",
       "    </tr>\n",
       "    <tr>\n",
       "      <th>2683</th>\n",
       "      <td>12959</td>\n",
       "      <td>Zambia</td>\n",
       "      <td>100</td>\n",
       "      <td>12-May-15</td>\n",
       "      <td>2015</td>\n",
       "    </tr>\n",
       "    <tr>\n",
       "      <th>2686</th>\n",
       "      <td>13004</td>\n",
       "      <td>Mozambique</td>\n",
       "      <td>60</td>\n",
       "      <td>15-Apr-15</td>\n",
       "      <td>2015</td>\n",
       "    </tr>\n",
       "    <tr>\n",
       "      <th>2690</th>\n",
       "      <td>13027</td>\n",
       "      <td>Vietnam</td>\n",
       "      <td>30</td>\n",
       "      <td>29-Jul-14</td>\n",
       "      <td>2014</td>\n",
       "    </tr>\n",
       "    <tr>\n",
       "      <th>2692</th>\n",
       "      <td>13064</td>\n",
       "      <td>South Africa</td>\n",
       "      <td>60</td>\n",
       "      <td>12-May-15</td>\n",
       "      <td>2015</td>\n",
       "    </tr>\n",
       "    <tr>\n",
       "      <th>...</th>\n",
       "      <td>...</td>\n",
       "      <td>...</td>\n",
       "      <td>...</td>\n",
       "      <td>...</td>\n",
       "      <td>...</td>\n",
       "    </tr>\n",
       "    <tr>\n",
       "      <th>10319</th>\n",
       "      <td>86818</td>\n",
       "      <td>Zimbabwe</td>\n",
       "      <td>60</td>\n",
       "      <td>31-Jul-15</td>\n",
       "      <td>2015</td>\n",
       "    </tr>\n",
       "    <tr>\n",
       "      <th>10320</th>\n",
       "      <td>86819</td>\n",
       "      <td>Côte d'Ivoire</td>\n",
       "      <td>60</td>\n",
       "      <td>31-Jul-15</td>\n",
       "      <td>2015</td>\n",
       "    </tr>\n",
       "    <tr>\n",
       "      <th>10321</th>\n",
       "      <td>86821</td>\n",
       "      <td>Zambia</td>\n",
       "      <td>30</td>\n",
       "      <td>31-Aug-15</td>\n",
       "      <td>2015</td>\n",
       "    </tr>\n",
       "    <tr>\n",
       "      <th>10322</th>\n",
       "      <td>86822</td>\n",
       "      <td>Zimbabwe</td>\n",
       "      <td>60</td>\n",
       "      <td>9-Sep-15</td>\n",
       "      <td>2015</td>\n",
       "    </tr>\n",
       "    <tr>\n",
       "      <th>10323</th>\n",
       "      <td>86823</td>\n",
       "      <td>Zimbabwe</td>\n",
       "      <td>60</td>\n",
       "      <td>31-Aug-15</td>\n",
       "      <td>2015</td>\n",
       "    </tr>\n",
       "  </tbody>\n",
       "</table>\n",
       "<p>2545 rows × 5 columns</p>\n",
       "</div>"
      ],
      "text/plain": [
       "          ID        Country  Unit of Measure (Per Pack)  \\\n",
       "2682   12935        Vietnam                          60   \n",
       "2683   12959         Zambia                         100   \n",
       "2686   13004     Mozambique                          60   \n",
       "2690   13027        Vietnam                          30   \n",
       "2692   13064   South Africa                          60   \n",
       "...      ...            ...                         ...   \n",
       "10319  86818       Zimbabwe                          60   \n",
       "10320  86819  Côte d'Ivoire                          60   \n",
       "10321  86821         Zambia                          30   \n",
       "10322  86822       Zimbabwe                          60   \n",
       "10323  86823       Zimbabwe                          60   \n",
       "\n",
       "      Scheduled Delivery Date  year  \n",
       "2682                 9-Jan-14  2014  \n",
       "2683                12-May-15  2015  \n",
       "2686                15-Apr-15  2015  \n",
       "2690                29-Jul-14  2014  \n",
       "2692                12-May-15  2015  \n",
       "...                       ...   ...  \n",
       "10319               31-Jul-15  2015  \n",
       "10320               31-Jul-15  2015  \n",
       "10321               31-Aug-15  2015  \n",
       "10322                9-Sep-15  2015  \n",
       "10323               31-Aug-15  2015  \n",
       "\n",
       "[2545 rows x 5 columns]"
      ]
     },
     "execution_count": 544,
     "metadata": {},
     "output_type": "execute_result"
    }
   ],
   "source": [
    "above_2013"
   ]
  },
  {
   "cell_type": "code",
   "execution_count": 556,
   "id": "0b2db593-f348-443f-890d-f0fa9f8acb2c",
   "metadata": {},
   "outputs": [
    {
     "data": {
      "text/plain": [
       "Text(0.5, 1.0, 'Shipment by Count 2014 VS 2015')"
      ]
     },
     "execution_count": 556,
     "metadata": {},
     "output_type": "execute_result"
    },
    {
     "data": {
      "image/png": "[encoded data removed]",
      "text/plain": [
       "<Figure size 432x288 with 1 Axes>"
      ]
     },
     "metadata": {},
     "output_type": "display_data"
    }
   ],
   "source": [
    "sns.countplot(data=above_2013, x='year', order=above_2013.year.value_counts().index)\n",
    "plt.title('Shipment by Count 2014 VS 2015', size = 18)"
   ]
  },
  {
   "cell_type": "code",
   "execution_count": 585,
   "id": "fb816339-4b8d-48e5-bcf5-1f9be0cb2850",
   "metadata": {},
   "outputs": [
    {
     "data": {
      "text/plain": [
       "Text(0.5, 1.0, 'Shipment by QTY 2014 VS 2015')"
      ]
     },
     "execution_count": 585,
     "metadata": {},
     "output_type": "execute_result"
    },
    {
     "data": {
      "image/png": "[encoded data removed]",
      "text/plain": [
       "<Figure size 432x288 with 1 Axes>"
      ]
     },
     "metadata": {},
     "output_type": "display_data"
    }
   ],
   "source": [
    "sns.barplot(data=above_2013, x='year', y='Unit of Measure (Per Pack)', estimator=sum)\n",
    "plt.title('Shipment by QTY 2014 VS 2015', size = 18)"
   ]
  },
  {
   "cell_type": "code",
   "execution_count": 587,
   "id": "5c9e5b80-ae27-4400-ace5-c83d78474579",
   "metadata": {},
   "outputs": [
    {
     "data": {
      "text/plain": [
       "Text(0.5, 1.0, 'Shipment by QTY 2014 VS 2015')"
      ]
     },
     "execution_count": 587,
     "metadata": {},
     "output_type": "execute_result"
    },
    {
     "data": {
      "image/png": "[encoded data removed]",
      "text/plain": [
       "<Figure size 432x288 with 1 Axes>"
      ]
     },
     "metadata": {},
     "output_type": "display_data"
    }
   ],
   "source": [
    "sns.barplot(data=above_2013, x='year', y='Unit of Measure (Per Pack)')\n",
    "plt.title('Shipment by QTY 2014 VS 2015', size = 18)"
   ]
  },
  {
   "cell_type": "markdown",
   "id": "ed2d7042-d904-48bb-bdf1-88b34979b8dd",
   "metadata": {},
   "source": [
    "- Total shipments in 2014 is 1500 which is higher than 2015 with total shipment 1000\n",
    "- The total QTY shipped in 2014 is 110000 which also higher than 2015, total \n",
    "- Infact the average QTY delivered between 2014 and 2015 are the same."
   ]
  },
  {
   "cell_type": "code",
   "execution_count": 560,
   "id": "05098efe-fecc-4bc6-80a5-28134e18fa3d",
   "metadata": {},
   "outputs": [],
   "source": [
    "y14 = delivery_time[delivery_time['year'] > 2013]\n",
    "y15 = delivery_time[delivery_time['year'] > 2014] "
   ]
  },
  {
   "cell_type": "code",
   "execution_count": 571,
   "id": "d6f7337d-a0a3-43b7-b8d3-c25871d73a9c",
   "metadata": {},
   "outputs": [
    {
     "name": "stderr",
     "output_type": "stream",
     "text": [
      "/Users/ulfah/opt/anaconda3/lib/python3.8/site-packages/seaborn/distributions.py:2557: FutureWarning: `distplot` is a deprecated function and will be removed in a future version. Please adapt your code to use either `displot` (a figure-level function with similar flexibility) or `histplot` (an axes-level function for histograms).\n",
      "  warnings.warn(msg, FutureWarning)\n"
     ]
    },
    {
     "data": {
      "text/plain": [
       "<AxesSubplot:ylabel='Density'>"
      ]
     },
     "execution_count": 571,
     "metadata": {},
     "output_type": "execute_result"
    },
    {
     "data": {
      "image/png": "[encoded data removed]",
      "text/plain": [
       "<Figure size 432x288 with 1 Axes>"
      ]
     },
     "metadata": {},
     "output_type": "display_data"
    }
   ],
   "source": [
    "sns.distplot(y14[['Unit of Measure (Per Pack)']])"
   ]
  },
  {
   "cell_type": "code",
   "execution_count": 593,
   "id": "5aa7b96e-eddc-4d6f-9e00-c2fa82b76329",
   "metadata": {},
   "outputs": [
    {
     "data": {
      "text/plain": [
       "Unit of Measure (Per Pack)    184661\n",
       "dtype: int64"
      ]
     },
     "execution_count": 593,
     "metadata": {},
     "output_type": "execute_result"
    }
   ],
   "source": [
    "y14[['Unit of Measure (Per Pack)']].sum()"
   ]
  },
  {
   "cell_type": "code",
   "execution_count": 589,
   "id": "dae50703-8761-4597-9db0-77487e837192",
   "metadata": {},
   "outputs": [
    {
     "data": {
      "text/plain": [
       "Unit of Measure (Per Pack)    73915\n",
       "dtype: int64"
      ]
     },
     "execution_count": 589,
     "metadata": {},
     "output_type": "execute_result"
    }
   ],
   "source": [
    "y15[['Unit of Measure (Per Pack)']].sum()"
   ]
  },
  {
   "cell_type": "markdown",
   "id": "32244098-e797-4627-814c-f38f502c165d",
   "metadata": {},
   "source": [
    "# Shiphment Mode"
   ]
  },
  {
   "cell_type": "code",
   "execution_count": 638,
   "id": "a0e78cba-39d3-44bb-9437-71ef24857dfe",
   "metadata": {},
   "outputs": [
    {
     "data": {
      "image/png": "[encoded data removed]",
      "text/plain": [
       "<Figure size 432x288 with 1 Axes>"
      ]
     },
     "metadata": {},
     "output_type": "display_data"
    }
   ],
   "source": [
    "shipment_mode= dataset['Shipment Mode'].value_counts()\n",
    "fig, ax = plt.subplots()\n",
    "ax.pie(shipment_mode, labels=shipment_mode.index, autopct='%1.1f%%', shadow=None)\n",
    "ax.axis('equal')\n",
    "plt.title('Shipment Mode', fontsize=14)\n",
    "plt.show()"
   ]
  },
  {
   "cell_type": "markdown",
   "id": "48072d6e-480f-4487-8bd1-1591e40b1066",
   "metadata": {},
   "source": [
    "- Most shipment mode is using Air total 61% and Truck 28%"
   ]
  },
  {
   "cell_type": "markdown",
   "id": "f5c6f338-f616-4f31-9797-be2ba70e409c",
   "metadata": {},
   "source": [
    "# Manufacturing Site"
   ]
  },
  {
   "cell_type": "code",
   "execution_count": 668,
   "id": "900441c2-0994-4dc6-8df2-a9d7eaf9f0e9",
   "metadata": {},
   "outputs": [
    {
     "data": {
      "text/plain": [
       "Aurobindo Unit III, India                                                   3172\n",
       "Mylan (formerly Matrix) Nashik                                              1415\n",
       "Hetero Unit III Hyderabad IN                                                 869\n",
       "Cipla, Goa, India                                                            665\n",
       "Strides, Bangalore, India.                                                   540\n",
       "Alere Medical Co., Ltd.                                                      481\n",
       "Trinity Biotech, Plc                                                         405\n",
       "ABBVIE Ludwigshafen Germany                                                  366\n",
       "Inverness Japan                                                              345\n",
       "ABBVIE (Abbott) Logis. UK                                                    219\n",
       "BMS Meymac, France                                                           148\n",
       "Aspen-OSD, Port Elizabeth, SA                                                141\n",
       "Chembio Diagnostics Sys. Inc.                                                124\n",
       "MSD, Haarlem, NL                                                             121\n",
       "Standard Diagnostics, Korea                                                  114\n",
       "Aurobindo Unit VII, IN                                                       111\n",
       "KHB Test Kit Facility, Shanghai China                                         70\n",
       "Emcure Plot No.P-2, I.T-B.T. Park, Phase II, MIDC, Hinjwadi, Pune, India      56\n",
       "GSK Mississauga (Canada)                                                      55\n",
       "Janssen-Cilag, Latina, IT                                                     54\n",
       "Name: Manufacturing Site, dtype: int64"
      ]
     },
     "execution_count": 668,
     "metadata": {},
     "output_type": "execute_result"
    }
   ],
   "source": [
    "dataset['Manufacturing Site'].value_counts().nlargest(20)"
   ]
  },
  {
   "cell_type": "code",
   "execution_count": 669,
   "id": "84c941c9-a77f-4975-a496-478454c48154",
   "metadata": {},
   "outputs": [
    {
     "data": {
      "image/png": "[encoded data removed]",
      "text/plain": [
       "<Figure size 432x288 with 1 Axes>"
      ]
     },
     "metadata": {},
     "output_type": "display_data"
    }
   ],
   "source": [
    "manufacture = dataset['Manufacturing Site'].value_counts().nlargest(5)\n",
    "fig, ax = plt.subplots()\n",
    "ax.pie(manufacture, labels=manufacture.index, autopct='%1.1f%%', shadow=None)\n",
    "plt.show()"
   ]
  },
  {
   "cell_type": "code",
   "execution_count": 22,
   "id": "c9ab73cc-6e85-4377-b1c9-b37ff17644b0",
   "metadata": {},
   "outputs": [
    {
     "name": "stdout",
     "output_type": "stream",
     "text": [
      "2.8277777777777775\n",
      "7.8999999999999995\n"
     ]
    }
   ],
   "source": [
    "# Data keuangan\n",
    "keuangan = {\n",
    "'pengeluaran': [2, 2.5, 2.25, 2.5, 3.2, 2.5, 3.5, 4, 3],\n",
    "'pemasukan': [7.8, 7.5, 9, 7.6, 7.2, 7.5, 7, 10, 7.5]\n",
    "}\n",
    "# Perhitungan rata-rata pemasukan dan rata-rata pengeluaran\n",
    "total_pengeluaran = keuangan['pengeluaran']\n",
    "total_pemasukan = keuangan['pemasukan']\n",
    "pengeluaran = 0\n",
    "pemasukan = 0\n",
    "for biaya in total_pengeluaran: \n",
    "    pengeluaran += biaya\n",
    "for biaya in total_pemasukan: \n",
    "    pemasukan += biaya\n",
    "rata_rata_pengeluaran = pengeluaran/len(total_pengeluaran)  \n",
    "rata_rata_pemasukan = pemasukan/len(total_pemasukan)\n",
    "print(rata_rata_pengeluaran) \n",
    "print(rata_rata_pemasukan)"
   ]
  },
  {
   "cell_type": "code",
   "execution_count": 20,
   "id": "06af5327-4852-4d45-b454-4b765a1a2096",
   "metadata": {},
   "outputs": [
    {
     "name": "stdout",
     "output_type": "stream",
     "text": [
      "2.8277777777777775\n",
      "7.8999999999999995\n"
     ]
    }
   ],
   "source": [
    "# Data keuangan\n",
    "keuangan = {\n",
    "'pengeluaran': [2, 2.5, 2.25, 2.5, 3.2, 2.5, 3.5, 4, 3],\n",
    "'pemasukan': [7.8, 7.5, 9, 7.6, 7.2, 7.5, 7, 10, 7.5]\n",
    "}\n",
    "# Perhitungan rata-rata pemasukan dan rata-rata pengeluaran\n",
    "total_pengeluaran = 0\n",
    "total_pemasukan = 0\n",
    "for biaya in keuangan['pengeluaran']: \n",
    "    total_pengeluaran += biaya \n",
    "for biaya in keuangan['pemasukan']: \n",
    "    total_pemasukan += biaya  \n",
    "rata_rata_pengeluaran = total_pengeluaran/len(keuangan['pengeluaran'])\n",
    "rata_rata_pemasukan = total_pemasukan/len(keuangan['pemasukan'])\n",
    "print(rata_rata_pengeluaran) \n",
    "print(rata_rata_pemasukan)"
   ]
  },
  {
   "cell_type": "code",
   "execution_count": 26,
   "id": "2e4b0daf-d512-4f95-bae7-7dd000b443b4",
   "metadata": {},
   "outputs": [
    {
     "name": "stdout",
     "output_type": "stream",
     "text": [
      "2.8277777777777775\n",
      "7.8999999999999995\n"
     ]
    }
   ],
   "source": [
    "keuangan = {\n",
    "'pengeluaran': [2, 2.5, 2.25, 2.5, 3.2, 2.5, 3.5, 4, 3],\n",
    "'pemasukan': [7.8, 7.5, 9, 7.6, 7.2, 7.5, 7, 10, 7.5]\n",
    "}\n",
    "\n",
    "rerata_pengeluaran = sum(keuangan['pengeluaran'])/len(keuangan['pengeluaran'])\n",
    "rerata_pemasukan = sum(keuangan['pemasukan'])/len(keuangan['pemasukan'])\n",
    "\n",
    "print(rerata_pengeluaran)\n",
    "print(rerata_pemasukan)"
   ]
  },
  {
   "cell_type": "code",
   "execution_count": 39,
   "id": "e4cc70c1-f369-42f3-a50b-8860382b5ca6",
   "metadata": {},
   "outputs": [
    {
     "name": "stdout",
     "output_type": "stream",
     "text": [
      "10\n",
      "11\n"
     ]
    }
   ],
   "source": [
    "judul_artikel = [\n",
    "\"Buah Salak Baik untuk Mata\", \"Buah Salak Kaya Potasium\", \n",
    "\"Buah Jeruk Kaya Vitamin C\", \"Buah Salak Kaya Manfaat\", \n",
    "\"Salak Baik untuk Jantung\", \"Jeruk dapat Memperkuat Tulang\", \n",
    "\"Jeruk Mencegah Penyakit Asma\", \"Jeruk Memperkuat Gigi\", \n",
    "\"Jeruk Mencegah Kolesterol Jahat\", \"Salak Mencegah Diabetes\", \n",
    "\"Salak Memperkuat Dinding Usus\", \"Salak Baik untuk Darah\",\n",
    "\"Jeruk Kaya Manfaat untuk Jantung\", \"Salak si Kecil yang Baik\", \n",
    "\"Jeruk dan Salak Buah Kaya Manfaat\", \"Buah Jeruk Enak\",\n",
    "\"Tips Panen Jeruk Ribuan Kilo\", \"Tips Bertanam Salak\", \n",
    "\"Salak Manis untuk Berbuka\", \"Jeruk Baik untuk Wajah\"\n",
    "]\n",
    "jumlah_artikel_jeruk = 0\n",
    "jumlah_artikel_salak = 0\n",
    "for judul in judul_artikel:\n",
    "    if judul.count(\"Jeruk\") > 0: \n",
    "        jumlah_artikel_jeruk += judul.count(\"Jeruk\")\n",
    "    if judul.count(\"Salak\") > 0:\n",
    "        jumlah_artikel_salak += judul.count(\"Salak\")\n",
    "print(jumlah_artikel_jeruk) \n",
    "print(jumlah_artikel_salak)"
   ]
  },
  {
   "cell_type": "code",
   "execution_count": 44,
   "id": "1c2a1dd4-bcd4-44f8-9044-5a0c766ea760",
   "metadata": {},
   "outputs": [
    {
     "ename": "TypeError",
     "evalue": "count() takes at least 1 argument (0 given)",
     "output_type": "error",
     "traceback": [
      "\u001b[0;31m---------------------------------------------------------------------------\u001b[0m",
      "\u001b[0;31mTypeError\u001b[0m                                 Traceback (most recent call last)",
      "\u001b[0;32m<ipython-input-44-0be8113b6ecc>\u001b[0m in \u001b[0;36m<module>\u001b[0;34m\u001b[0m\n\u001b[1;32m     18\u001b[0m         \u001b[0;32mif\u001b[0m \u001b[0mjudul\u001b[0m\u001b[0;34m.\u001b[0m\u001b[0mcount\u001b[0m\u001b[0;34m(\u001b[0m\u001b[0;34m\"Jeruk\"\u001b[0m\u001b[0;34m)\u001b[0m \u001b[0;34m>\u001b[0m \u001b[0;36m0\u001b[0m \u001b[0;32mand\u001b[0m \u001b[0mkata\u001b[0m\u001b[0;34m.\u001b[0m\u001b[0mcount\u001b[0m\u001b[0;34m(\u001b[0m\u001b[0;34m)\u001b[0m \u001b[0;34m>\u001b[0m \u001b[0;36m0\u001b[0m\u001b[0;34m:\u001b[0m\u001b[0;34m\u001b[0m\u001b[0;34m\u001b[0m\u001b[0m\n\u001b[1;32m     19\u001b[0m             \u001b[0mkata_positif_jeruk\u001b[0m \u001b[0;34m+=\u001b[0m \u001b[0;36m1\u001b[0m\u001b[0;34m\u001b[0m\u001b[0;34m\u001b[0m\u001b[0m\n\u001b[0;32m---> 20\u001b[0;31m         \u001b[0;32mif\u001b[0m \u001b[0mjudul\u001b[0m\u001b[0;34m.\u001b[0m\u001b[0mcount\u001b[0m\u001b[0;34m(\u001b[0m\u001b[0;34m\"Salak\"\u001b[0m\u001b[0;34m)\u001b[0m \u001b[0;34m>\u001b[0m \u001b[0;36m0\u001b[0m \u001b[0;32mand\u001b[0m \u001b[0mkata\u001b[0m\u001b[0;34m.\u001b[0m\u001b[0mcount\u001b[0m\u001b[0;34m(\u001b[0m\u001b[0;34m)\u001b[0m \u001b[0;34m>\u001b[0m \u001b[0;36m0\u001b[0m\u001b[0;34m:\u001b[0m\u001b[0;34m\u001b[0m\u001b[0;34m\u001b[0m\u001b[0m\n\u001b[0m\u001b[1;32m     21\u001b[0m             \u001b[0mkata_positif_salak\u001b[0m \u001b[0;34m+=\u001b[0m \u001b[0;36m1\u001b[0m\u001b[0;34m\u001b[0m\u001b[0;34m\u001b[0m\u001b[0m\n\u001b[1;32m     22\u001b[0m \u001b[0mprint\u001b[0m\u001b[0;34m(\u001b[0m\u001b[0mkata_positif_jeruk\u001b[0m\u001b[0;34m)\u001b[0m\u001b[0;34m\u001b[0m\u001b[0;34m\u001b[0m\u001b[0m\n",
      "\u001b[0;31mTypeError\u001b[0m: count() takes at least 1 argument (0 given)"
     ]
    }
   ],
   "source": [
    "judul_artikel = [\n",
    "\"Buah Salak Baik untuk Mata\", \"Buah Salak Kaya Potasium\", \n",
    "\"Buah Jeruk Kaya Vitamin C\", \"Buah Salak Kaya Manfaat\", \n",
    "\"Salak Baik untuk Jantung\", \"Jeruk dapat Memperkuat Tulang\", \n",
    "\"Jeruk Mencegah Penyakit Asma\", \"Jeruk Memperkuat Gigi\", \n",
    "\"Jeruk Mencegah Kolesterol Jahat\", \"Salak Mencegah Diabetes\", \n",
    "\"Salak Memperkuat Dinding Usus\", \"Salak Baik untuk Darah\",\n",
    "\"Jeruk Kaya Manfaat untuk Jantung\", \"Salak si Kecil yang Baik\", \n",
    "\"Jeruk dan Salak Buah Kaya Manfaat\", \"Buah Jeruk Enak\",\n",
    "\"Tips Panen Jeruk Ribuan Kilo\", \"Tips Bertanam Salak\", \n",
    "\"Salak Manis untuk Berbuka\", \"Jeruk Baik untuk Wajah\"\n",
    "]\n",
    "kata_positif = [\"Kaya\", \"Baik\", \"Mencegah\", \"Memperkuat\"]\n",
    "kata_positif_jeruk = 0\n",
    "kata_positif_salak = 0\n",
    "for judul in judul_artikel: \n",
    "    for kata in kata_positif:\n",
    "        if judul.count(\"Jeruk\") > 0 and kata.count() > 0: \n",
    "            kata_positif_jeruk += 1\n",
    "        if judul.count(\"Salak\") > 0 and kata.count() > 0:\n",
    "            kata_positif_salak += 1\n",
    "print(kata_positif_jeruk) \n",
    "print(kata_positif_salak)"
   ]
  },
  {
   "cell_type": "code",
   "execution_count": null,
   "id": "625d145a-3bf8-4da4-bab5-eb52eacfdc31",
   "metadata": {},
   "outputs": [],
   "source": []
  },
  {
   "cell_type": "code",
   "execution_count": null,
   "id": "082ba524-fe77-4d96-9e7d-d2f127c0a361",
   "metadata": {},
   "outputs": [],
   "source": []
  }
 ],
 "metadata": {
  "kernelspec": {
   "display_name": "Python 3",
   "language": "python",
   "name": "python3"
  },
  "language_info": {
   "codemirror_mode": {
    "name": "ipython",
    "version": 3
   },
   "file_extension": ".py",
   "mimetype": "text/x-python",
   "name": "python",
   "nbconvert_exporter": "python",
   "pygments_lexer": "ipython3",
   "version": "3.8.8"
  }
 },
 "nbformat": 4,
 "nbformat_minor": 5
}
